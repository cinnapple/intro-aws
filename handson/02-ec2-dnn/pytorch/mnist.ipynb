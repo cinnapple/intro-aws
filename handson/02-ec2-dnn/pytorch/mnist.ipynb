{
 "cells": [
  {
   "cell_type": "code",
   "execution_count": 1,
   "metadata": {},
   "outputs": [],
   "source": [
    "import torch\n",
    "import torch.optim as optim\n",
    "import torchvision\n",
    "from torchvision import datasets, transforms\n",
    "from matplotlib import pyplot as plt\n",
    "\n",
    "# custom functions and classes\n",
    "from simple_mnist import Model, train, test"
   ]
  },
  {
   "cell_type": "markdown",
   "metadata": {},
   "source": [
    "### Step 1:Load the train and test data"
   ]
  },
  {
   "cell_type": "code",
   "execution_count": 2,
   "metadata": {},
   "outputs": [],
   "source": [
    "transf = transforms.Compose([transforms.ToTensor(),\n",
    "                             transforms.Normalize((0.1307,), (0.3081,))])\n",
    "\n",
    "trainset = datasets.MNIST(root='./data', train=True, download=True, transform=transf)\n",
    "trainloader = torch.utils.data.DataLoader(trainset, batch_size=64, shuffle=True)\n",
    "\n",
    "testset = datasets.MNIST(root='./data', train=False, download=True, transform=transf)\n",
    "testloader = torch.utils.data.DataLoader(trainset, batch_size=1000, shuffle=True)"
   ]
  },
  {
   "cell_type": "markdown",
   "metadata": {},
   "source": [
    "### Step 2:  Let's visualize the MNIST data!"
   ]
  },
  {
   "cell_type": "code",
   "execution_count": 3,
   "metadata": {},
   "outputs": [
    {
     "name": "stdout",
     "output_type": "stream",
     "text": [
      "Example data size: torch.Size([1000, 1, 28, 28])\n"
     ]
    },
    {
     "data": {
      "image/png": "[encoded data removed]",
      "text/plain": [
       "<Figure size 720x288 with 10 Axes>"
      ]
     },
     "metadata": {},
     "output_type": "display_data"
    }
   ],
   "source": [
    "examples = iter(testloader)\n",
    "example_data, example_targets = examples.next()\n",
    "\n",
    "print(\"Example data size:\", example_data.shape)\n",
    "\n",
    "fig = plt.figure(figsize=(10,4))\n",
    "for i in range(10):\n",
    "    plt.subplot(2,5,i+1)\n",
    "    plt.tight_layout()\n",
    "    plt.imshow(example_data[i][0], cmap='gray', interpolation='none')\n",
    "    plt.title(\"Ground Truth: {}\".format(example_targets[i]))\n",
    "    plt.xticks([])\n",
    "    plt.yticks([])\n",
    "plt.show()"
   ]
  },
  {
   "cell_type": "markdown",
   "metadata": {},
   "source": [
    "### Step 3: Load CNN model"
   ]
  },
  {
   "cell_type": "code",
   "execution_count": 4,
   "metadata": {},
   "outputs": [
    {
     "data": {
      "text/plain": [
       "Model(\n",
       "  (conv1): Conv2d(1, 32, kernel_size=(3, 3), stride=(1, 1))\n",
       "  (conv2): Conv2d(32, 64, kernel_size=(3, 3), stride=(1, 1))\n",
       "  (dropout1): Dropout2d(p=0.25, inplace=False)\n",
       "  (dropout2): Dropout2d(p=0.5, inplace=False)\n",
       "  (fc1): Linear(in_features=9216, out_features=128, bias=True)\n",
       "  (fc2): Linear(in_features=128, out_features=10, bias=True)\n",
       ")"
      ]
     },
     "execution_count": 4,
     "metadata": {},
     "output_type": "execute_result"
    }
   ],
   "source": [
    "model = Model()\n",
    "model.to(\"cuda\") # load to GPU"
   ]
  },
  {
   "cell_type": "markdown",
   "metadata": {},
   "source": [
    "### Step 4: Define optimizer"
   ]
  },
  {
   "cell_type": "code",
   "execution_count": 5,
   "metadata": {},
   "outputs": [],
   "source": [
    "optimizer = optim.SGD(model.parameters(), lr=0.01, momentum=0.5)"
   ]
  },
  {
   "cell_type": "markdown",
   "metadata": {},
   "source": [
    "### Step 5: Train the network"
   ]
  },
  {
   "cell_type": "code",
   "execution_count": 6,
   "metadata": {
    "scrolled": false
   },
   "outputs": [
    {
     "name": "stdout",
     "output_type": "stream",
     "text": [
      "Train Epoch: 0 [0/60000 (0%)]\tLoss: 2.341048\n",
      "Train Epoch: 0 [6400/60000 (11%)]\tLoss: 0.644414\n",
      "Train Epoch: 0 [12800/60000 (21%)]\tLoss: 0.416772\n",
      "Train Epoch: 0 [19200/60000 (32%)]\tLoss: 0.406150\n",
      "Train Epoch: 0 [25600/60000 (43%)]\tLoss: 0.470624\n",
      "Train Epoch: 0 [32000/60000 (53%)]\tLoss: 0.330268\n",
      "Train Epoch: 0 [38400/60000 (64%)]\tLoss: 0.247294\n",
      "Train Epoch: 0 [44800/60000 (75%)]\tLoss: 0.308220\n",
      "Train Epoch: 0 [51200/60000 (85%)]\tLoss: 0.170190\n",
      "Train Epoch: 0 [57600/60000 (96%)]\tLoss: 0.190700\n",
      "\n",
      "Test set: Average loss: 0.1665, Accuracy: 57007/60000 (95%)\n",
      "\n",
      "Train Epoch: 1 [0/60000 (0%)]\tLoss: 0.345561\n",
      "Train Epoch: 1 [6400/60000 (11%)]\tLoss: 0.244697\n",
      "Train Epoch: 1 [12800/60000 (21%)]\tLoss: 0.215654\n",
      "Train Epoch: 1 [19200/60000 (32%)]\tLoss: 0.202047\n",
      "Train Epoch: 1 [25600/60000 (43%)]\tLoss: 0.155804\n",
      "Train Epoch: 1 [32000/60000 (53%)]\tLoss: 0.214764\n",
      "Train Epoch: 1 [38400/60000 (64%)]\tLoss: 0.149749\n",
      "Train Epoch: 1 [44800/60000 (75%)]\tLoss: 0.178929\n",
      "Train Epoch: 1 [51200/60000 (85%)]\tLoss: 0.029746\n",
      "Train Epoch: 1 [57600/60000 (96%)]\tLoss: 0.119935\n",
      "\n",
      "Test set: Average loss: 0.0964, Accuracy: 58271/60000 (97%)\n",
      "\n",
      "Train Epoch: 2 [0/60000 (0%)]\tLoss: 0.253763\n",
      "Train Epoch: 2 [6400/60000 (11%)]\tLoss: 0.071572\n",
      "Train Epoch: 2 [12800/60000 (21%)]\tLoss: 0.146019\n",
      "Train Epoch: 2 [19200/60000 (32%)]\tLoss: 0.177514\n",
      "Train Epoch: 2 [25600/60000 (43%)]\tLoss: 0.168508\n",
      "Train Epoch: 2 [32000/60000 (53%)]\tLoss: 0.044052\n",
      "Train Epoch: 2 [38400/60000 (64%)]\tLoss: 0.152528\n",
      "Train Epoch: 2 [44800/60000 (75%)]\tLoss: 0.077345\n",
      "Train Epoch: 2 [51200/60000 (85%)]\tLoss: 0.130586\n",
      "Train Epoch: 2 [57600/60000 (96%)]\tLoss: 0.049708\n",
      "\n",
      "Test set: Average loss: 0.0664, Accuracy: 58812/60000 (98%)\n",
      "\n",
      "Train Epoch: 3 [0/60000 (0%)]\tLoss: 0.188576\n",
      "Train Epoch: 3 [6400/60000 (11%)]\tLoss: 0.150938\n",
      "Train Epoch: 3 [12800/60000 (21%)]\tLoss: 0.161175\n",
      "Train Epoch: 3 [19200/60000 (32%)]\tLoss: 0.141108\n",
      "Train Epoch: 3 [25600/60000 (43%)]\tLoss: 0.035453\n",
      "Train Epoch: 3 [32000/60000 (53%)]\tLoss: 0.035167\n",
      "Train Epoch: 3 [38400/60000 (64%)]\tLoss: 0.195277\n",
      "Train Epoch: 3 [44800/60000 (75%)]\tLoss: 0.087346\n",
      "Train Epoch: 3 [51200/60000 (85%)]\tLoss: 0.096261\n",
      "Train Epoch: 3 [57600/60000 (96%)]\tLoss: 0.040644\n",
      "\n",
      "Test set: Average loss: 0.0498, Accuracy: 59115/60000 (99%)\n",
      "\n",
      "Train Epoch: 4 [0/60000 (0%)]\tLoss: 0.066418\n",
      "Train Epoch: 4 [6400/60000 (11%)]\tLoss: 0.051740\n",
      "Train Epoch: 4 [12800/60000 (21%)]\tLoss: 0.157927\n",
      "Train Epoch: 4 [19200/60000 (32%)]\tLoss: 0.022515\n",
      "Train Epoch: 4 [25600/60000 (43%)]\tLoss: 0.079869\n",
      "Train Epoch: 4 [32000/60000 (53%)]\tLoss: 0.137530\n",
      "Train Epoch: 4 [38400/60000 (64%)]\tLoss: 0.067231\n",
      "Train Epoch: 4 [44800/60000 (75%)]\tLoss: 0.080213\n",
      "Train Epoch: 4 [51200/60000 (85%)]\tLoss: 0.181353\n",
      "Train Epoch: 4 [57600/60000 (96%)]\tLoss: 0.198735\n",
      "\n",
      "Test set: Average loss: 0.0432, Accuracy: 59233/60000 (99%)\n",
      "\n"
     ]
    },
    {
     "data": {
      "text/plain": [
       "Text(0, 0.5, 'Train loss')"
      ]
     },
     "execution_count": 6,
     "metadata": {},
     "output_type": "execute_result"
    },
    {
     "data": {
      "image/png": "[encoded data removed]",
      "text/plain": [
       "<Figure size 504x360 with 1 Axes>"
      ]
     },
     "metadata": {
      "needs_background": "light"
     },
     "output_type": "display_data"
    }
   ],
   "source": [
    "train_losses = []\n",
    "for epoch in range(5):\n",
    "    losses = train(model, trainloader, optimizer, epoch)\n",
    "    train_losses = train_losses + losses\n",
    "    test(model, testloader)\n",
    "\n",
    "plt.figure(figsize=(7,5))\n",
    "plt.plot(train_losses)\n",
    "plt.xlabel(\"Iterations\")\n",
    "plt.ylabel(\"Train loss\")"
   ]
  },
  {
   "cell_type": "markdown",
   "metadata": {},
   "source": [
    "### Step 6: Visualize the result"
   ]
  },
  {
   "cell_type": "code",
   "execution_count": 7,
   "metadata": {},
   "outputs": [
    {
     "data": {
      "image/png": "[encoded data removed]",
      "text/plain": [
       "<Figure size 720x288 with 10 Axes>"
      ]
     },
     "metadata": {},
     "output_type": "display_data"
    }
   ],
   "source": [
    "model.eval()\n",
    "\n",
    "with torch.no_grad():\n",
    "    output = model(example_data.to(\"cuda\"))\n",
    "\n",
    "fig = plt.figure(figsize=(10,4))\n",
    "for i in range(10):\n",
    "    plt.subplot(2,5,i+1)\n",
    "    plt.tight_layout()\n",
    "    plt.imshow(example_data[i][0], cmap='gray', interpolation='none')\n",
    "    plt.title(\"Prediction: {}\".format(output.data.max(1, keepdim=True)[1][i].item()))\n",
    "    plt.xticks([])\n",
    "    plt.yticks([])\n",
    "plt.show()"
   ]
  },
  {
   "cell_type": "markdown",
   "metadata": {},
   "source": [
    "### Step 7: Save the trained parameters"
   ]
  },
  {
   "cell_type": "code",
   "execution_count": 8,
   "metadata": {},
   "outputs": [],
   "source": [
    "torch.save(model.state_dict(), \"mnist_cnn.pt\")"
   ]
  },
  {
   "cell_type": "code",
   "execution_count": null,
   "metadata": {},
   "outputs": [],
   "source": []
  }
 ],
 "metadata": {
  "kernelspec": {
   "display_name": "Environment (conda_pytorch_p36)",
   "language": "python",
   "name": "conda_pytorch_p36"
  },
  "language_info": {
   "codemirror_mode": {
    "name": "ipython",
    "version": 3
   },
   "file_extension": ".py",
   "mimetype": "text/x-python",
   "name": "python",
   "nbconvert_exporter": "python",
   "pygments_lexer": "ipython3",
   "version": "3.6.10"
  }
 },
 "nbformat": 4,
 "nbformat_minor": 4
}
